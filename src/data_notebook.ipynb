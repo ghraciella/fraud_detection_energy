{
 "cells": [
  {
   "cell_type": "code",
   "execution_count": null,
   "metadata": {},
   "outputs": [],
   "source": [
    "# reload modules automatically\n",
    "\n",
    "\n",
    "#%reload_ext autoreload\n",
    "\n",
    "#%reload_ext storage.create_data_warehouse"
   ]
  },
  {
   "cell_type": "code",
   "execution_count": null,
   "metadata": {},
   "outputs": [],
   "source": [
    "# Importing necessary libraries and modules \n",
    "\n",
    "import subprocess\n",
    "\n",
    "try:\n",
    "\n",
    "    import os\n",
    "    import boto3\n",
    "    import time\n",
    "    from memory_profiler import profile\n",
    "\n",
    "    import psycopg2\n",
    "\n",
    "\n",
    "\n",
    "\n",
    "except ImportError as error:\n",
    "    print(f\"Installation of the required dependencies necessary! {error}\")\n",
    "\n",
    "    subprocess.check_call([\"pip\", \"install\", \"boto3\"])\n",
    "\n",
    "\n",
    "    print(f\"Successful installation of the required dependencies necessary\")\n",
    "\n",
    "\n",
    "import warnings\n",
    "warnings.filterwarnings('ignore')\n",
    "\n",
    "\n",
    "# custom imports\n",
    "\n",
    "## data lakes aws\n",
    "from storage import (\n",
    "    configure_aws_session,\n",
    "    create_aws_data_lake,\n",
    "    create_data_warehouse,\n",
    "    create_db_tables,\n",
    "    load_data_db_tables,\n",
    "    )\n",
    "\n"
   ]
  },
  {
   "cell_type": "code",
   "execution_count": null,
   "metadata": {},
   "outputs": [],
   "source": [
    "# get file paths\n",
    "\n",
    "current_dir = os.path.dirname(os.path.abspath('__file__'))\n",
    "\n",
    "print(f''' current directory :\n",
    "        {current_dir} ''')\n",
    "\n",
    "root_path = os.path.normpath(os.path.join(current_dir, '../data/raw/'))\n",
    "\n",
    "client_path = os.path.normpath(os.path.join(root_path, 'client_data.csv'))\n",
    "invoice_path = os.path.normpath(os.path.join(root_path, 'invoice_data.csv'))\n",
    "\n",
    "\n",
    "data_files_path = [client_path, invoice_path]\n"
   ]
  },
  {
   "cell_type": "code",
   "execution_count": null,
   "metadata": {},
   "outputs": [],
   "source": [
    "# create session\n",
    "\n",
    "session = configure_aws_session()\n",
    "\n"
   ]
  },
  {
   "cell_type": "code",
   "execution_count": null,
   "metadata": {},
   "outputs": [],
   "source": [
    "# create aws data lake: s3 bucket to store fraud detection data files\n",
    "\n",
    "create_aws_data_lake(session, data_files_path, bucket_name= 'fraud-detection-datasets')\n",
    "\n"
   ]
  },
  {
   "cell_type": "code",
   "execution_count": null,
   "metadata": {},
   "outputs": [],
   "source": [
    "# create data warehouse: creating postgresql rds instance in aws\n",
    "\n",
    "rds_db_config, response = create_data_warehouse()\n"
   ]
  },
  {
   "cell_type": "code",
   "execution_count": null,
   "metadata": {},
   "outputs": [],
   "source": [
    "# create tables in the data warehouse using posgres psycopg2 driver\n",
    "\n",
    "sql_create_client_table = '''\n",
    "        CREATE TABLE IF NOT EXISTS client_data (\n",
    "            district  TEXT,\n",
    "            client_id INT,\n",
    "            client_catg  TEXT,\n",
    "            region TEXT,\n",
    "            creation_date DATE,\n",
    "            target DECIMAL,\n",
    "        );\n",
    "        '''\n",
    "\n",
    "\n",
    "\n",
    "sql_create_invoice_table = '''\n",
    "        CREATE TABLE IF NOT EXISTS invoice_data (\n",
    "            client_id INT,\n",
    "            invoice_date DATE,\n",
    "            tarif_type TEXT,\n",
    "            counter_number INT,\n",
    "            counter_statue TEXT,\n",
    "            counter_code TEXT,\n",
    "            reading_remarque TEXT,\n",
    "            counter_coefficient DECIMAL,\n",
    "            consommation_level_1 DECIMAL,\n",
    "            consommation_level_2 DECIMAL,\n",
    "            consommation_level_3 DECIMAL,\n",
    "            consommation_level_4 DECIMAL,\n",
    "            old_index DECIMAL,\n",
    "            new_index DECIMAL,\n",
    "            months_number INT,\n",
    "            counter_type TEXT\n",
    "        );\n",
    "        '''\n",
    "\n",
    "\n",
    "sql_queries = [sql_create_client_table, sql_create_invoice_table]\n",
    "\n",
    "create_db_tables(rds_db_config, sql_queries)\n"
   ]
  },
  {
   "cell_type": "markdown",
   "metadata": {},
   "source": []
  },
  {
   "cell_type": "code",
   "execution_count": null,
   "metadata": {},
   "outputs": [],
   "source": [
    "# get data from bucket(data lake) into data warehouse tables in postgres\n",
    "\n",
    "load_data_db_tables(session, rds_db_config, data_files_path, bucket_name= 'fraud_detection_datasets')\n",
    "\n"
   ]
  },
  {
   "cell_type": "code",
   "execution_count": null,
   "metadata": {},
   "outputs": [],
   "source": []
  }
 ],
 "metadata": {
  "kernelspec": {
   "display_name": ".venv",
   "language": "python",
   "name": "python3"
  },
  "language_info": {
   "codemirror_mode": {
    "name": "ipython",
    "version": 3
   },
   "file_extension": ".py",
   "mimetype": "text/x-python",
   "name": "python",
   "nbconvert_exporter": "python",
   "pygments_lexer": "ipython3",
   "version": "3.11.3"
  }
 },
 "nbformat": 4,
 "nbformat_minor": 2
}
